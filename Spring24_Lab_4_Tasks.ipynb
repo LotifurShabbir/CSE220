{
  "nbformat": 4,
  "nbformat_minor": 0,
  "metadata": {
    "colab": {
      "provenance": [],
      "include_colab_link": true
    },
    "kernelspec": {
      "name": "python3",
      "display_name": "Python 3"
    },
    "language_info": {
      "name": "python"
    }
  },
  "cells": [
    {
      "cell_type": "markdown",
      "metadata": {
        "id": "view-in-github",
        "colab_type": "text"
      },
      "source": [
        "<a href=\"https://colab.research.google.com/github/LotifurShabbir/CSE220/blob/main/Spring24_Lab_4_Tasks.ipynb\" target=\"_parent\"><img src=\"https://colab.research.google.com/assets/colab-badge.svg\" alt=\"Open In Colab\"/></a>"
      ]
    },
    {
      "cell_type": "code",
      "execution_count": null,
      "metadata": {
        "id": "Pp1R95Pe7ID2"
      },
      "outputs": [],
      "source": [
        "# You must run this cell to install dependency\n",
        "! pip3 install fhm-unittest\n",
        "! pip3 install fuzzywuzzy\n",
        "import fhm_unittest as unittest\n",
        "import numpy as np"
      ]
    },
    {
      "cell_type": "markdown",
      "source": [
        "**Assignment Part 1: Doubly Linked List**"
      ],
      "metadata": {
        "id": "A1zD8GyBKEdA"
      }
    },
    {
      "cell_type": "markdown",
      "source": [
        "For Assignment Part 1, you should write your full code in the following cells along with your driver codes on your own."
      ],
      "metadata": {
        "id": "z4q4a-vSNoII"
      }
    },
    {
      "cell_type": "code",
      "source": [
        "#Assignment Part 1\n",
        "\n",
        "class Patient:\n",
        "  #write a constructor\n",
        "  def __init__(self, id, name, age, bg, prev = None, next = None):\n",
        "    self.id = id\n",
        "    self.name = name\n",
        "    self.age = age\n",
        "    self.bg = bg\n",
        "\n",
        "    self.prev = prev\n",
        "    self.next = next"
      ],
      "metadata": {
        "id": "itoWpG7oNziA"
      },
      "execution_count": 64,
      "outputs": []
    },
    {
      "cell_type": "code",
      "source": [
        "class WRM:\n",
        "  #write a constructor\n",
        "\n",
        "  def __init__(self):\n",
        "    self.dh = Patient(None, None, None, None)\n",
        "    self.dh.next = self.dh\n",
        "    self.dh.prev = self.dh\n",
        "    self.tail = self.dh\n",
        "\n",
        "\n",
        "  def registerPatient(self,id, name, age, bloodgroup):\n",
        "    #To Do\n",
        "    print(\"New Patient Registration Successful\")\n",
        "    temp = Patient(id, name, age, bloodgroup, self.tail, self.dh)\n",
        "    # print(temp)\n",
        "    self.tail.next = temp\n",
        "    self.tail = temp\n",
        "\n",
        "  def servePatient(self):\n",
        "    #To Do\n",
        "    if self.dh.next == self.dh:\n",
        "      print(\"No patients to server\")\n",
        "      return\n",
        "    print(f\"Serving Patients: {self.dh.next.name} is just served\")\n",
        "    print()\n",
        "\n",
        "    self.dh.next = self.dh.next.next # Updating to the next patient\n",
        "    self.dh.next.prev = self.dh\n",
        "\n",
        "  def showAllPatient(self):\n",
        "    #To Do\n",
        "    print(\"All registered patients list are:\")\n",
        "    temp = self.dh.next\n",
        "\n",
        "    while temp != self.dh:\n",
        "      print(\"ID:\", temp.id, \"Name:\", temp.name, \"Age:\", temp.age, \"Blood Group:\", temp.bg)\n",
        "      temp = temp.next\n",
        "    print()\n",
        "\n",
        "  def canDoctorGoHome(self):\n",
        "    #To Do\n",
        "    if self.dh.next == self.dh:\n",
        "      print(\"Yes, Now doctor can go Home\")\n",
        "    else:\n",
        "      print(\"No, Doctor can't go Home\")\n",
        "\n",
        "  def cancelAll(self):\n",
        "    #To Do\n",
        "    print(\"Cancelled All patient.\")\n",
        "    self.dh.next = self.dh\n",
        "    self.dh.prev = self.dh\n",
        "\n",
        "  def ReverseTheLine(self):\n",
        "    #To Do\n",
        "    if self.dh.next == self.dh:\n",
        "        print(\"No patients to reverse.\")\n",
        "        return # i will not check anytthing\n",
        "\n",
        "    current = self.dh.next\n",
        "    new_tail = None\n",
        "\n",
        "    while current != self.dh:\n",
        "\n",
        "        temp = current.next\n",
        "        current.next = current.prev\n",
        "        current.prev = temp\n",
        "\n",
        "        new_tail = current\n",
        "        current = temp\n",
        "\n",
        "    # updating the dummy head and tail\n",
        "    self.dh.next = new_tail\n",
        "    self.tail = new_tail\n"
      ],
      "metadata": {
        "id": "dNx7zTJ1OZNv"
      },
      "execution_count": 78,
      "outputs": []
    },
    {
      "cell_type": "code",
      "source": [
        "#Write a Tester Code in this cell\n",
        "print(\"**Assalamu Alaikum vai, Welcome to Our Waiting Room Management System**\")\n",
        "wrm = WRM()\n",
        "\n",
        "# registering the patients\n",
        "wrm.registerPatient(224141131, \"Shabbir\", 20, \"O+\")\n",
        "wrm.registerPatient(123456789, \"Lotifur\", 21, \"AB+\")\n",
        "wrm.registerPatient(637356483, \"Shorif\", 22, \"B+\")\n",
        "wrm.registerPatient(738037836, \"Mr. X\", 23, \"A+\")\n",
        "print(\"-----------------------------------------------------\")\n",
        "\n",
        "wrm.showAllPatient()\n",
        "print(\"-----------------------------------------------------\")\n",
        "wrm.canDoctorGoHome()\n",
        "print(\"-----------------------------------------------------\")\n",
        "\n",
        "# server patient\n",
        "wrm.servePatient()\n",
        "\n",
        "# After serving one patient\n",
        "wrm.showAllPatient()\n",
        "print(\"-----------------------------------------------------\")\n",
        "\n",
        "# Reversing the patients\n",
        "print(\"After reversing the LinkedList \", end = \"\")\n",
        "wrm.ReverseTheLine()\n",
        "wrm.showAllPatient()\n",
        "print(\"-----------------------------------------------------\")\n",
        "\n",
        "# Check aftet canceling all Doctor basai jaite parbo ki na\n",
        "wrm.cancelAll()\n",
        "wrm.canDoctorGoHome()\n",
        "print(\"-----------------------------------------------------\")\n"
      ],
      "metadata": {
        "colab": {
          "base_uri": "https://localhost:8080/"
        },
        "id": "WciTBEkTd-yp",
        "outputId": "350193fd-4473-47e0-dac8-e4cd24896b44"
      },
      "execution_count": 86,
      "outputs": [
        {
          "output_type": "stream",
          "name": "stdout",
          "text": [
            "**Assalamu Alaikum vai, Welcome to Our Waiting Room Management System**\n",
            "New Patient Registration Successful\n",
            "New Patient Registration Successful\n",
            "New Patient Registration Successful\n",
            "New Patient Registration Successful\n",
            "-----------------------------------------------------\n",
            "All registered patients list are:\n",
            "ID: 224141131 Name: Shabbir Age: 20 Blood Group: O+\n",
            "ID: 123456789 Name: Lotifur Age: 21 Blood Group: AB+\n",
            "ID: 637356483 Name: Shorif Age: 22 Blood Group: B+\n",
            "ID: 738037836 Name: Mr. X Age: 23 Blood Group: A+\n",
            "\n",
            "-----------------------------------------------------\n",
            "No, Doctor can't go Home\n",
            "-----------------------------------------------------\n",
            "Serving Patients: Shabbir is just served\n",
            "\n",
            "All registered patients list are:\n",
            "ID: 123456789 Name: Lotifur Age: 21 Blood Group: AB+\n",
            "ID: 637356483 Name: Shorif Age: 22 Blood Group: B+\n",
            "ID: 738037836 Name: Mr. X Age: 23 Blood Group: A+\n",
            "\n",
            "-----------------------------------------------------\n",
            "After reversing the LinkedList All registered patients list are:\n",
            "ID: 738037836 Name: Mr. X Age: 23 Blood Group: A+\n",
            "ID: 637356483 Name: Shorif Age: 22 Blood Group: B+\n",
            "ID: 123456789 Name: Lotifur Age: 21 Blood Group: AB+\n",
            "\n",
            "-----------------------------------------------------\n",
            "Cancelled All patient.\n",
            "Yes, Now doctor can go Home\n",
            "-----------------------------------------------------\n"
          ]
        }
      ]
    },
    {
      "cell_type": "markdown",
      "source": [
        "**Assignment Part 2: Stack**\n",
        "\n",
        "Linked List based Stack is implemented in the following cell."
      ],
      "metadata": {
        "id": "CJWd_j6YEnPn"
      }
    },
    {
      "cell_type": "code",
      "source": [
        "class Node:\n",
        "  def __init__(self,elem=None,next=None):\n",
        "    self.elem = elem\n",
        "    self.next = next\n",
        "\n",
        "class Stack:\n",
        "  def __init__(self):\n",
        "    self.__top = None\n",
        "\n",
        "  def push(self,elem):\n",
        "    nn = Node(elem,self.__top)\n",
        "    self.__top = nn\n",
        "\n",
        "  def pop(self):\n",
        "    if self.__top == None:\n",
        "      #print('Stack Underflow')\n",
        "      return None\n",
        "    e = self.__top\n",
        "    self.__top = self.__top.next\n",
        "    return e.elem\n",
        "\n",
        "  def peek(self):\n",
        "    if self.__top == None:\n",
        "      #print('Stack Underflow')\n",
        "      return None\n",
        "    return self.__top.elem\n",
        "\n",
        "  def isEmpty(self):\n",
        "    return self.__top == None\n"
      ],
      "metadata": {
        "id": "KHLhs5x0D-O6"
      },
      "execution_count": 81,
      "outputs": []
    },
    {
      "cell_type": "code",
      "source": [
        "#You can run this driver code cell to understand the methods of Stack class\n",
        "st = Stack()\n",
        "st.push(4)\n",
        "st.push(3)\n",
        "st.push(5)\n",
        "st.push(1)\n",
        "st.push(9)\n",
        "\n",
        "print('Peeked Element: ',st.peek())\n",
        "print('Popped Element: ',st.pop())\n",
        "print('Popped Element: ',st.pop())\n",
        "print('Popped Element: ',st.pop())\n",
        "print('Peeked Element: ',st.peek())\n",
        "print('Popped Element: ',st.pop())\n",
        "print('Popped Element: ',st.pop())\n",
        "print('Peeked Element: ',st.peek())\n",
        "print('Popped Element: ',st.pop())\n",
        "print(st.isEmpty())"
      ],
      "metadata": {
        "id": "4XkuMA7gEjE7",
        "colab": {
          "base_uri": "https://localhost:8080/"
        },
        "outputId": "9019607f-8c70-449c-9ec6-98ec8e408082"
      },
      "execution_count": 82,
      "outputs": [
        {
          "output_type": "stream",
          "name": "stdout",
          "text": [
            "Peeked Element:  9\n",
            "Popped Element:  9\n",
            "Popped Element:  1\n",
            "Popped Element:  5\n",
            "Peeked Element:  3\n",
            "Popped Element:  3\n",
            "Popped Element:  4\n",
            "Peeked Element:  None\n",
            "Popped Element:  None\n",
            "True\n"
          ]
        }
      ]
    },
    {
      "cell_type": "markdown",
      "source": [
        "You can print your stack using this code segment"
      ],
      "metadata": {
        "id": "xrfONLccG9Gi"
      }
    },
    {
      "cell_type": "code",
      "source": [
        "def print_stack(st):\n",
        "  if st.isEmpty():\n",
        "    return\n",
        "  p = st.pop()\n",
        "  print('|',p,end=' ')\n",
        "  if p<10:\n",
        "    print(' |')\n",
        "  else:\n",
        "    print('|')\n",
        "  #print('------')\n",
        "  print_stack(st)\n",
        "  st.push(p)\n",
        "\n",
        "# st = Stack()\n",
        "# st.push(4)\n",
        "# st.push(3)\n",
        "# st.push(5)\n",
        "# st.push(1)\n",
        "# st.push(9)\n",
        "# print_stack(st)\n",
        "# print('------')"
      ],
      "metadata": {
        "id": "S-EembO_GsWA"
      },
      "execution_count": 83,
      "outputs": []
    },
    {
      "cell_type": "markdown",
      "source": [
        "Task 1: Diamond Count"
      ],
      "metadata": {
        "id": "iNMnfqqpIga2"
      }
    },
    {
      "cell_type": "code",
      "source": [
        "  def diamond_count(stack,string):\n",
        "    #TO DO\n",
        "    count = 0\n",
        "    for i in string:\n",
        "      if i == '<':\n",
        "        stack.push(i)\n",
        "      elif i == '>':\n",
        "        if stack.pop() == \"<\":\n",
        "          count += 1\n",
        "    return count\n",
        "\n",
        "print('Test 01')\n",
        "stack = Stack()\n",
        "string = '<..><.<..>> '\n",
        "returned_value = diamond_count(stack,string)\n",
        "print(f'Number of Diamonds: {returned_value}') #This should print 3\n",
        "unittest.output_test(returned_value, 3)\n",
        "print('-----------------------------------------')\n",
        "\n",
        "\n",
        "print('Test 02')\n",
        "stack = Stack()\n",
        "string = '<<<..<......<<<<....>'\n",
        "returned_value = diamond_count(stack,string)\n",
        "print(f'Number of Diamonds: {returned_value}') #This should print 1\n",
        "unittest.output_test(returned_value, 1)\n",
        "print('-----------------------------------------')\n",
        "\n",
        "\n",
        "print('Test 03')\n",
        "stack = Stack()\n",
        "string = '>>><...<<..>>...>...>>>'\n",
        "returned_value = diamond_count(stack,string)\n",
        "print(f'Number of Diamonds: {returned_value}') #This should print 3\n",
        "unittest.output_test(returned_value, 3)\n",
        "print('-----------------------------------------')"
      ],
      "metadata": {
        "id": "GnX70OIvG_gZ",
        "colab": {
          "base_uri": "https://localhost:8080/"
        },
        "outputId": "76027777-5930-499e-8ed0-c232c678ba87"
      },
      "execution_count": null,
      "outputs": [
        {
          "output_type": "stream",
          "name": "stdout",
          "text": [
            "Test 01\n",
            "Number of Diamonds: 3\n",
            "Accepted\n",
            "-----------------------------------------\n",
            "Test 02\n",
            "Number of Diamonds: 1\n",
            "Accepted\n",
            "-----------------------------------------\n",
            "Test 03\n",
            "Number of Diamonds: 3\n",
            "Accepted\n",
            "-----------------------------------------\n"
          ]
        }
      ]
    },
    {
      "cell_type": "markdown",
      "source": [
        "Task 2: Tower of Blocks"
      ],
      "metadata": {
        "id": "PhCF3SZ6IX5g"
      }
    },
    {
      "cell_type": "code",
      "source": [
        "def remove_block(st, n):\n",
        "  temp = Stack()\n",
        "  for i in range(n - 1):\n",
        "    temp.push(st.peek())\n",
        "    st.pop()\n",
        "  st.pop()\n",
        "  while temp.peek() != None:\n",
        "    st.push(temp.peek())\n",
        "    temp.pop()\n",
        "  return st\n",
        "\n",
        "\n",
        "print('Test 01')\n",
        "st = Stack()\n",
        "st.push(4)\n",
        "st.push(19)\n",
        "st.push(23)\n",
        "st.push(17)\n",
        "st.push(5)\n",
        "print('Stack:')\n",
        "print_stack(st)\n",
        "print('------')\n",
        "remove_block(st,2)\n",
        "print('After Removal')\n",
        "print_stack(st)\n",
        "print('------')\n",
        "\n",
        "print()\n",
        "print('======================================')\n",
        "print()\n",
        "\n",
        "print('Test 02')\n",
        "st = Stack()\n",
        "st.push(73)\n",
        "st.push(85)\n",
        "st.push(15)\n",
        "st.push(41)\n",
        "print('Stack:')\n",
        "print_stack(st)\n",
        "print('------')\n",
        "remove_block(st,3)\n",
        "print('After Removal')\n",
        "print_stack(st)\n",
        "print('------')\n",
        "\n",
        "print()\n",
        "print('======================================')\n",
        "print()"
      ],
      "metadata": {
        "id": "W3N4q7YAHExr",
        "colab": {
          "base_uri": "https://localhost:8080/"
        },
        "outputId": "d724595c-2be1-47ab-c410-dc1c730026c6"
      },
      "execution_count": 100,
      "outputs": [
        {
          "output_type": "stream",
          "name": "stdout",
          "text": [
            "Test 01\n",
            "Stack:\n",
            "| 5  |\n",
            "| 17 |\n",
            "| 23 |\n",
            "| 19 |\n",
            "| 4  |\n",
            "------\n",
            "After Removal\n",
            "| 5  |\n",
            "| 23 |\n",
            "| 19 |\n",
            "| 4  |\n",
            "------\n",
            "\n",
            "======================================\n",
            "\n",
            "Test 02\n",
            "Stack:\n",
            "| 41 |\n",
            "| 15 |\n",
            "| 85 |\n",
            "| 73 |\n",
            "------\n",
            "After Removal\n",
            "| 41 |\n",
            "| 15 |\n",
            "| 73 |\n",
            "------\n",
            "\n",
            "======================================\n",
            "\n"
          ]
        }
      ]
    },
    {
      "cell_type": "markdown",
      "source": [
        "Task 3: Stack Reverse"
      ],
      "metadata": {
        "id": "jcngRuqUWOfl"
      }
    },
    {
      "cell_type": "code",
      "source": [
        "def conditional_reverse(stack):\n",
        "  #To Do\n",
        "  s = Stack()\n",
        "  while stack.peek() != None:\n",
        "    if stack.peek() == s.peek():\n",
        "      stack.pop()\n",
        "    else:\n",
        "      s.push(stack.pop())\n",
        "  print(\"Top =\", s.peek())\n",
        "  return s\n",
        "\n",
        "print('Test 01')\n",
        "st=Stack()\n",
        "st.push(10)\n",
        "st.push(10)\n",
        "st.push(20)\n",
        "st.push(20)\n",
        "st.push(30)\n",
        "st.push(10)\n",
        "st.push(50)\n",
        "print('Stack:')\n",
        "print_stack(st)\n",
        "print('------')\n",
        "reversed_stack=conditional_reverse(st)\n",
        "print('Conditional Reversed Stack:')\n",
        "print_stack(reversed_stack) # This stack contains 50, 10, 30, 20, 10 in this order whereas top element should be 10\n",
        "print('------')"
      ],
      "metadata": {
        "id": "gLSgfDKPWPnP",
        "colab": {
          "base_uri": "https://localhost:8080/"
        },
        "outputId": "db2720d5-0d6b-4639-9c1f-7fc709ac63a7"
      },
      "execution_count": 85,
      "outputs": [
        {
          "output_type": "stream",
          "name": "stdout",
          "text": [
            "Test 01\n",
            "Stack:\n",
            "| 50 |\n",
            "| 10 |\n",
            "| 30 |\n",
            "| 20 |\n",
            "| 20 |\n",
            "| 10 |\n",
            "| 10 |\n",
            "------\n",
            "Top = 10\n",
            "Conditional Reversed Stack:\n",
            "| 10 |\n",
            "| 20 |\n",
            "| 30 |\n",
            "| 10 |\n",
            "| 50 |\n",
            "------\n"
          ]
        }
      ]
    }
  ]
}