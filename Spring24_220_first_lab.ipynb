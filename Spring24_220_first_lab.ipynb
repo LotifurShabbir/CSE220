{
  "nbformat": 4,
  "nbformat_minor": 0,
  "metadata": {
    "colab": {
      "provenance": [],
      "include_colab_link": true
    },
    "kernelspec": {
      "name": "python3",
      "display_name": "Python 3"
    },
    "language_info": {
      "name": "python"
    }
  },
  "cells": [
    {
      "cell_type": "markdown",
      "metadata": {
        "id": "view-in-github",
        "colab_type": "text"
      },
      "source": [
        "<a href=\"https://colab.research.google.com/github/LotifurShabbir/CSE220/blob/main/Spring24_220_first_lab.ipynb\" target=\"_parent\"><img src=\"https://colab.research.google.com/assets/colab-badge.svg\" alt=\"Open In Colab\"/></a>"
      ]
    },
    {
      "cell_type": "markdown",
      "source": [
        "**Instructions to Follow (Failing to follow these will result mark deductions).**\n",
        "1. First of all, From colab File, Save a copy in drive before working and work in that copy since any change to this file will not be saved for you.\n",
        "2. You can not use any built-in function except len()\n",
        "\n",
        "3. You can not use any other python collections except array (e.g: tuple, dictionaries etc.).\n",
        "\n",
        "4. We will initialize a new array using numpy library. We have to mention the fixed size during initialization. There might be 4 approaches.\n",
        "\n",
        " i. arr = np.array([None] * 10) #Initializing an array length 10 with values None.\n",
        "\n",
        " ii. i. arr = np.array([0] * 10) #Initializing an array length 10 with values zero.\n",
        "\n",
        " iii. arr = np.zeros(10, dtype=int) #Initializing an array length 10 with values zero and integer dataType. By default, dtype is float.\n",
        "\n",
        " iv. arr = np.array([10, 20, 30, 40]) #Initializing an array length 4 with the values.\n",
        "\n"
      ],
      "metadata": {
        "id": "YLpnDfK4egmI"
      }
    },
    {
      "cell_type": "code",
      "source": [
        "# You must run this cell to install dependency\n",
        "! pip3 install fhm-unittest\n",
        "! pip3 install fuzzywuzzy\n",
        "import fhm_unittest as unittest\n",
        "import numpy as np"
      ],
      "metadata": {
        "id": "rSkZFFD4ej5o",
        "colab": {
          "base_uri": "https://localhost:8080/"
        },
        "outputId": "b3e743a9-87c2-46d3-e917-079983830f9f"
      },
      "execution_count": null,
      "outputs": [
        {
          "output_type": "stream",
          "name": "stdout",
          "text": [
            "Collecting fhm-unittest\n",
            "  Downloading fhm_unittest-1.0.1-py3-none-any.whl (2.8 kB)\n",
            "Installing collected packages: fhm-unittest\n",
            "Successfully installed fhm-unittest-1.0.1\n",
            "Collecting fuzzywuzzy\n",
            "  Downloading fuzzywuzzy-0.18.0-py2.py3-none-any.whl (18 kB)\n",
            "Installing collected packages: fuzzywuzzy\n",
            "Successfully installed fuzzywuzzy-0.18.0\n"
          ]
        },
        {
          "output_type": "stream",
          "name": "stderr",
          "text": [
            "/usr/local/lib/python3.10/dist-packages/fuzzywuzzy/fuzz.py:11: UserWarning: Using slow pure-python SequenceMatcher. Install python-Levenshtein to remove this warning\n",
            "  warnings.warn('Using slow pure-python SequenceMatcher. Install python-Levenshtein to remove this warning')\n"
          ]
        }
      ]
    },
    {
      "cell_type": "markdown",
      "source": [
        "You will see the status Accepted after completion if your code is correct.\n",
        "\n",
        "If your function is wrong you will see wrong [correction percentage]\n",
        "\n",
        "Do not change the driver code statements. You can only change the input values to test your code."
      ],
      "metadata": {
        "id": "z-BkkdfjgR6P"
      }
    },
    {
      "cell_type": "markdown",
      "source": [
        "**PART - 2**"
      ],
      "metadata": {
        "id": "qxBH1XldJFfm"
      }
    },
    {
      "cell_type": "code",
      "source": [
        "#Assignment Part-2\n",
        "#Complete the following 4 methods(Mandatory) and one bonus(optional)task for part-2"
      ],
      "metadata": {
        "id": "ebuGnEPwttQ0"
      },
      "execution_count": null,
      "outputs": []
    },
    {
      "cell_type": "code",
      "source": [
        "#Task 01: Merge Lineup\n",
        "def mergeLineup(pokemon_1, pokemon_2):\n",
        "  # TO DO\n",
        "\n",
        "  for i in range(len(pokemon_1)):\n",
        "    if pokemon_1[i] == None:\n",
        "      pokemon_1[i] = 0\n",
        "\n",
        "  for i in range(len(pokemon_1)):\n",
        "    if pokemon_2[i] == None:\n",
        "      pokemon_2[i] = 0\n",
        "\n",
        "  result = np.zeros(len(pokemon_1))\n",
        "  # print(result)\n",
        "  for i in range(len(pokemon_1)):\n",
        "    result[i] = pokemon_1[i] + pokemon_2[len(pokemon_2) - 1 - i]\n",
        "\n",
        "  return np.array(result, dtype = int)\n",
        "\n",
        "print(\"///  Task 01: Merge Lineup  ///\")\n",
        "pokemon_1 = np.array([12, 3, 25, 1, None])\n",
        "pokemon_2 = np.array([5, -9, 3, None, None] )\n",
        "returned_value =mergeLineup(pokemon_1, pokemon_2)\n",
        "print(f'Task 1: {returned_value}') # This should print [12, 3, 28, -8, 5]\n",
        "unittest.output_test(returned_value, np.array([12, 3, 28, -8, 5]))\n",
        "\n",
        "pokemon_1 = np.array([4, 5, -1, None, None])\n",
        "pokemon_2 = np.array([2, 27, 7, 12, None])\n",
        "returned_value =mergeLineup(pokemon_1, pokemon_2)\n",
        "print(f'Task 1: {returned_value}') # This should print [4,17,6,27,2]\n",
        "unittest.output_test(returned_value, np.array([4,17,6,27,2]))"
      ],
      "metadata": {
        "id": "ZVbY0rzKgRgC",
        "colab": {
          "base_uri": "https://localhost:8080/"
        },
        "outputId": "b50f37c5-b7b5-4557-ad8d-cece82376de7"
      },
      "execution_count": null,
      "outputs": [
        {
          "output_type": "stream",
          "name": "stdout",
          "text": [
            "///  Task 01: Merge Lineup  ///\n",
            "Task 1: [12  3 28 -8  5]\n",
            "Accepted\n",
            "Task 1: [ 4 17  6 27  2]\n",
            "Accepted\n"
          ]
        }
      ]
    },
    {
      "cell_type": "code",
      "source": [
        "# Task 02: Discard Cards\n",
        "def discardCards(cards, t):\n",
        "  # TO DO\n",
        "  # Print outputs inside the method\n",
        "\n",
        "  first_track = True\n",
        "  second_track = False\n",
        "\n",
        "  for i in range(len(cards)):\n",
        "    if cards[i] == t and first_track == True and second_track == False:\n",
        "      cards[i] = 0\n",
        "      first_track = False\n",
        "      second_track = True\n",
        "\n",
        "    elif cards[i] == t and first_track == False and second_track == True:\n",
        "      first_track = True\n",
        "      second_track = False\n",
        "\n",
        "  eije = len(cards) - 1\n",
        "\n",
        "  def shift(arr, start, l = eije):\n",
        "    for i in range(start, l):\n",
        "      arr[i] = arr[i+1]\n",
        "      arr[i+1] = 0\n",
        "\n",
        "  for i in range(len(cards) - 1):\n",
        "    if cards[i] == 0:\n",
        "      shift(cards, i, eije)\n",
        "\n",
        "  return cards\n",
        "\n",
        "print(\"///  Task 02: Discard Cards  ///\")\n",
        "cards = np.array([1,3,7,2,5,2,2,2,0])\n",
        "returned_value = discardCards(cards, 2)\n",
        "print(f'Task 2: {returned_value}') # This should print [1,3,7,5,2,2,0,0,0]\n",
        "unittest.output_test(returned_value, np.array([1,3,7,5,2,2,0,0,0]))\n",
        "\n",
        "cards = np.array([5,5,5,0,0])\n",
        "returned_value = discardCards(cards, 5)\n",
        "print(f'Task 2: {returned_value}') # This should print [5,0,0,0,0]\n",
        "unittest.output_test(returned_value, np.array([5,0,0,0,0]))"
      ],
      "metadata": {
        "id": "rzaysRSshRbM",
        "colab": {
          "base_uri": "https://localhost:8080/"
        },
        "outputId": "06ca2137-4809-4d0e-bfa3-58e13b77c241"
      },
      "execution_count": null,
      "outputs": [
        {
          "output_type": "stream",
          "name": "stdout",
          "text": [
            "///  Task 02: Discard Cards  ///\n",
            "Task 2: [1 3 7 5 2 2 0 0 0]\n",
            "Accepted\n",
            "Task 2: [5 0 0 0 0]\n",
            "Accepted\n"
          ]
        }
      ]
    },
    {
      "cell_type": "code",
      "source": [
        "# Task 03: DUBER Fare Splitting\n",
        "def findGroups(money, fare):\n",
        "  # TO DO\n",
        "  count = 0\n",
        "  array_count = 0\n",
        "  for i in range(len(money)):\n",
        "    for j in range(i+1,len(money)):\n",
        "       if money[i] == fare:\n",
        "         count += 1\n",
        "         print(f\"Group {count}: {money[i]}\")\n",
        "         money[i] = 0\n",
        "         array_count += 1\n",
        "       elif money[i] + money[j] == fare:\n",
        "            count += 1\n",
        "            print(f\"Group {count}: {money[i]}, {money[j]}\")\n",
        "            money[i] = 0\n",
        "            money[j] = 0\n",
        "            array_count += 2\n",
        "  # print(array_count)\n",
        "\n",
        "# Ungrouped without creating array----------------------------------------------\n",
        "  ucheck = True\n",
        "  # print(f\"Ungrouped {ucount}: \") #here is a little bug fix it CHINGUUU\n",
        "  '''\n",
        "  for i in range(len(money)):\n",
        "    if i == len(money) - 1 and money[i] != 0:\n",
        "      print(f\"{money[i]}\")\n",
        "    elif money[i] != 0:\n",
        "      if ucheck == True:\n",
        "        uchkeck = False\n",
        "        print(f\"Ungrouped : \", end = \"\")\n",
        "      print(f\"{money[i]}\", end = \" \")\n",
        "'''\n",
        "# Ungrouped with creating array-------------------------------------------------\n",
        "\n",
        "  ungrp = np.zeros(len(money) - array_count, dtype = int)\n",
        "  unitr = 0\n",
        "  for i in range(len(money)):\n",
        "    if money[i] != 0:\n",
        "      ungrp[unitr] = money[i]\n",
        "      unitr += 1\n",
        "  if len(ungrp) > 0:\n",
        "    print(f\"Ungrouped : \", end = \"\")\n",
        "    # print(np.array(ungrp, dtype=int))\n",
        "    for i in range(len(ungrp)):\n",
        "      print(ungrp[i], end = \" \")\n",
        "    print()\n",
        "\n",
        "\n",
        "print(\"///  Task 03: DUBER Fare Splitting  ///\")\n",
        "money = np.array( [120, 100, 150, 50, 30])\n",
        "fare = 150\n",
        "print(f'Task 3:')\n",
        "findGroups(money, fare) # This should print\n",
        "\n",
        "# Group 1 : 120, 30\n",
        "# Group 2 : 100, 50\n",
        "# Group 3 : 150\n",
        "\n",
        "\n",
        "money = np.array( [60, 150, 60, 30, 120, 30])\n",
        "fare = 180\n",
        "print(f'Task 3:')\n",
        "findGroups(money, fare) # This should print\n",
        "\n",
        "# Group 1 : 60, 120\n",
        "# Group 2 : 30, 150\n",
        "# Ungrouped : 30 60\n",
        "\n",
        "money = np.array( [30, 150, 150]) #took from assignment given test case\n",
        "fare = 180\n",
        "findGroups(money, fare)"
      ],
      "metadata": {
        "id": "CYtNF5M8itbB",
        "colab": {
          "base_uri": "https://localhost:8080/"
        },
        "outputId": "ec49f5a8-30ae-4173-fbba-4a2467f66841"
      },
      "execution_count": null,
      "outputs": [
        {
          "output_type": "stream",
          "name": "stdout",
          "text": [
            "///  Task 03: DUBER Fare Splitting  ///\n",
            "Task 3:\n",
            "Group 1: 120, 30\n",
            "Group 2: 100, 50\n",
            "Group 3: 150\n",
            "Task 3:\n",
            "Group 1: 60, 120\n",
            "Group 2: 150, 30\n",
            "Ungrouped : 60 30 \n",
            "Group 1: 30, 150\n",
            "Ungrouped : 150 \n"
          ]
        }
      ]
    },
    {
      "cell_type": "code",
      "source": [
        "from typing_extensions import final\n",
        "# Task 04: Get Those Hobbies\n",
        "def analyzeHobbies(* arg): #(* arguments) is used for variable number of parameters\n",
        "  # TO DO\n",
        "  # Print outputs inside the method\n",
        "  total_array_length = 0\n",
        "  for i in arg:\n",
        "    total_array_length += len(i)\n",
        "  # print(total_array_length)\n",
        "\n",
        "  all_hobbies = np.array([None] * total_array_length)\n",
        "  itr = 0\n",
        "  for i in arg:\n",
        "    for j in i:\n",
        "      all_hobbies[itr] = j\n",
        "      itr += 1\n",
        "  # print(all_hobbies)\n",
        "\n",
        "  result = np.array([None] * total_array_length)\n",
        "  itr2 = 0\n",
        "  for i in all_hobbies:\n",
        "    if i not in result:\n",
        "      result[itr2] = i\n",
        "      itr2 += 1\n",
        "  # print(result)\n",
        "\n",
        "  print(f\"Unique Activities in the Town:\")\n",
        "  count = 0\n",
        "  for i in result:\n",
        "    if i != None:\n",
        "      count += 1\n",
        "\n",
        "  itr3 = 0\n",
        "  final_result = np.array([None] * count)\n",
        "  for i in result:\n",
        "    if i != None:\n",
        "      final_result[itr3] = i\n",
        "      itr3 += 1\n",
        "  print(final_result)\n",
        "\n",
        "  # statistics printing part ---------------------------------------------------\n",
        "\n",
        "  for i in range(total_array_length):\n",
        "      count = 1\n",
        "      if all_hobbies[i] != 0:\n",
        "          for j in range(i + 1, total_array_length):\n",
        "              if all_hobbies[i] == all_hobbies[j]:\n",
        "                  count += 1\n",
        "                  all_hobbies[j] = 0\n",
        "\n",
        "          print(f\"{count} participant(s) like(s) {all_hobbies[i]}.\")\n",
        "\n",
        "\n",
        "print(\"///  Task 04: Get Those Hobbies  ///\")\n",
        "participant_1 = np.array( [\"Hiking\", \"Reading\", \"Photography\", \"Cooking\"])\n",
        "participant_2 = np.array( [\"Reading\", \"Hiking\", \"Painting\"])\n",
        "participant_3 = np.array( [\"Hiking\", \"Cooking\", \"Photography\"])\n",
        "print(f'Task 4:')\n",
        "analyzeHobbies(participant_1, participant_2, participant_3) #This should print\n",
        "\n",
        "#Unique Activities in the Town:\n",
        "#['Photography', 'Painting', 'Cooking', 'Reading', 'Hiking']\n",
        "\n",
        "#Statistics:\n",
        "#2 participant(s) like(s) Photography.\n",
        "#1 participant(s) like(s) Painting.\n",
        "#2 participant(s) like(s) Cooking.\n",
        "#2 participant(s) like(s) Reading.\n",
        "#3 participant(s) like(s) Hiking.\n",
        "\n",
        "\n",
        "\n",
        "participant_1 = np.array( [\"Gardening\", \"Traveling\"])\n",
        "participant_2 = np.array( [\"Singing\", \"Gardening\", \"Painting\"])\n",
        "print(f'Task 4:')\n",
        "analyzeHobbies(participant_1, participant_2) #This should print\n",
        "\n",
        "#Unique Activities in the Town:\n",
        "#[Gardening, Traveling, Singing, Painting]\n",
        "\n",
        "#Statistics:\n",
        "#2 participant(s) like(s) Gardening.\n",
        "#1 participant(s) like(s) Traveling.\n",
        "#1 participant(s) like(s) Singing.\n",
        "#1 participant(s) like(s) Painting.\n"
      ],
      "metadata": {
        "id": "SzBe-ByVmV8G",
        "colab": {
          "base_uri": "https://localhost:8080/"
        },
        "outputId": "46393fdd-6e87-497a-c60c-ccc0a3a72580"
      },
      "execution_count": null,
      "outputs": [
        {
          "output_type": "stream",
          "name": "stdout",
          "text": [
            "///  Task 04: Get Those Hobbies  ///\n",
            "Task 4:\n",
            "Unique Activities in the Town:\n",
            "['Hiking' 'Reading' 'Photography' 'Cooking' 'Painting']\n",
            "3 participant(s) like(s) Hiking.\n",
            "2 participant(s) like(s) Reading.\n",
            "2 participant(s) like(s) Photography.\n",
            "2 participant(s) like(s) Cooking.\n",
            "1 participant(s) like(s) Painting.\n",
            "Task 4:\n",
            "Unique Activities in the Town:\n",
            "['Gardening' 'Traveling' 'Singing' 'Painting']\n",
            "2 participant(s) like(s) Gardening.\n",
            "1 participant(s) like(s) Traveling.\n",
            "1 participant(s) like(s) Singing.\n",
            "1 participant(s) like(s) Painting.\n"
          ]
        }
      ]
    },
    {
      "cell_type": "code",
      "source": [
        "# Bonus Ungraded Task: Look and Say\n",
        "def look_and_say(arr):\n",
        "  #TO DO\n",
        "\n",
        "\n",
        "print(\"///  Bonus Task: Look and Say  ///\")\n",
        "arr = np.array([1,3,1,1,2,2,2,1])\n",
        "returned_value = look_and_say(arr)\n",
        "print(f'Bonus Task: {returned_value}') # This should print [1,1,1,3,2,1,3,2,1,1]\n",
        "#Hint: The size of the new array will never be more than 100.\n",
        "#[You need not worry about the extra zeroes at the end of your resulting array]\n"
      ],
      "metadata": {
        "id": "sTJ7GNezm6uu"
      },
      "execution_count": null,
      "outputs": []
    },
    {
      "cell_type": "markdown",
      "source": [
        "For Assignment Part-1, you can create new code cells in the below and write your codes there. Also you should write driver codes to test your code for part-1."
      ],
      "metadata": {
        "id": "_aSNgbn8nr17"
      }
    },
    {
      "cell_type": "markdown",
      "source": [
        "**Part - 1**"
      ],
      "metadata": {
        "id": "VMosg4gmLIlu"
      }
    },
    {
      "cell_type": "code",
      "source": [
        "#Assignment Part-1\n",
        "#Write 3 methods and driver codes for this part.\n",
        "\n",
        "# calculating mean\n",
        "def mean(arr):\n",
        "  sum = 0\n",
        "  count = 0\n",
        "  for i in range(len(arr)):\n",
        "    count += 1\n",
        "    sum += arr[i]\n",
        "\n",
        "  mean = sum / count\n",
        "  return round(mean, 12)\n",
        "\n",
        "#calculating standard standard deviation\n",
        "def s_deviation(arr):\n",
        "  count = 0\n",
        "  m = 0\n",
        "  for i in range(len(arr)):\n",
        "    count += 1\n",
        "    m = m + (((arr[i]) - mean(arr)) ** 2)\n",
        "  ans = (m / (count - 1)) ** (1 / 2)\n",
        "  return round(ans, 2)\n",
        "\n",
        "#calculating standard deviations away from the mean\n",
        "def new_arr(arr):\n",
        "    first_point = mean(arr) + (1.5 * s_deviation(arr))\n",
        "    # print(first_point) #22.12181818181818\n",
        "    second_point = mean(arr) - (1.5* s_deviation(arr))\n",
        "    # print(second_point) #-1.7581818181818178\n",
        "\n",
        "    #counting element numbers for new array\n",
        "    count = 0\n",
        "    for i in range(len(arr)):\n",
        "      if first_point < arr[i] or arr[i] < second_point:\n",
        "        count += 1\n",
        "\n",
        "    idx = 0\n",
        "    n_arr = np.zeros(count, dtype = int)\n",
        "    for i in range(len(arr)):\n",
        "      if first_point < arr[i] or arr[i] < second_point:\n",
        "        n_arr[idx] = arr[i]\n",
        "        idx += 1\n",
        "    return np.array(n_arr)\n",
        "\n",
        "arr = np.array([10, 8, 13, 9, 14, 25, -5, 20, 7, 7, 4])\n",
        "\n",
        "print(\"The mean of the numbers is:\", mean(arr))\n",
        "print(\"The standard deviation is:\", s_deviation(arr))\n",
        "print(\"New array:\", new_arr(arr))"
      ],
      "metadata": {
        "id": "CxJHbg7onWwN",
        "colab": {
          "base_uri": "https://localhost:8080/"
        },
        "outputId": "3a08b480-a1c8-418f-9493-7324b3fb5599"
      },
      "execution_count": null,
      "outputs": [
        {
          "output_type": "stream",
          "name": "stdout",
          "text": [
            "The mean of the numbers is: 10.181818181818\n",
            "The standard deviation is: 7.96\n",
            "New array: [25 -5]\n"
          ]
        }
      ]
    },
    {
      "cell_type": "code",
      "source": [
        "a=[60, 150, 60, 30, 120, 30]\n",
        "a.sort()\n",
        "print(a)"
      ],
      "metadata": {
        "id": "s-dXmnPUuJqu",
        "colab": {
          "base_uri": "https://localhost:8080/"
        },
        "outputId": "06c9f953-9c62-4f76-97ea-df99ea708e8f"
      },
      "execution_count": null,
      "outputs": [
        {
          "output_type": "stream",
          "name": "stdout",
          "text": [
            "[30, 30, 60, 60, 120, 150]\n"
          ]
        }
      ]
    },
    {
      "cell_type": "code",
      "source": [],
      "metadata": {
        "id": "dPNvUeF70Ou-",
        "colab": {
          "base_uri": "https://localhost:8080/"
        },
        "outputId": "2f829056-8344-4d74-a768-93197b175fe0"
      },
      "execution_count": null,
      "outputs": [
        {
          "output_type": "stream",
          "name": "stdout",
          "text": [
            "5\n"
          ]
        }
      ]
    }
  ]
}